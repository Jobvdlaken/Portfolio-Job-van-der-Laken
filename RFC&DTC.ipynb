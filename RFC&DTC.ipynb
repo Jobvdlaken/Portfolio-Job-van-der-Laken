{
 "cells": [
  {
   "cell_type": "code",
   "execution_count": 450,
   "id": "ebc58afb",
   "metadata": {},
   "outputs": [],
   "source": [
    "import pandas as pd \n",
    "import matplotlib.pyplot as plt \n",
    "from sklearn.ensemble import RandomForestClassifier\n",
    "from sklearn.model_selection import train_test_split, GridSearchCV, RandomizedSearchCV\n",
    "from sklearn.metrics import confusion_matrix, accuracy_score, roc_curve, roc_auc_score, precision_score, recall_score"
   ]
  },
  {
   "cell_type": "code",
   "execution_count": 451,
   "id": "95bb51a6",
   "metadata": {
    "scrolled": true
   },
   "outputs": [
    {
     "data": {
      "text/html": [
       "<div>\n",
       "<style scoped>\n",
       "    .dataframe tbody tr th:only-of-type {\n",
       "        vertical-align: middle;\n",
       "    }\n",
       "\n",
       "    .dataframe tbody tr th {\n",
       "        vertical-align: top;\n",
       "    }\n",
       "\n",
       "    .dataframe thead th {\n",
       "        text-align: right;\n",
       "    }\n",
       "</style>\n",
       "<table border=\"1\" class=\"dataframe\">\n",
       "  <thead>\n",
       "    <tr style=\"text-align: right;\">\n",
       "      <th></th>\n",
       "      <th>Amuse zalm op een vorkje</th>\n",
       "      <th>Babka met chocolade en hazelnoten</th>\n",
       "      <th>Borsjt met dille en sour cream</th>\n",
       "      <th>Chocolade-kardemomcake</th>\n",
       "      <th>Eenvoudige rodekool</th>\n",
       "      <th>Frittata met lentegroenten</th>\n",
       "      <th>Gemengde geroosterde groenten</th>\n",
       "      <th>Goulash met paprikamix</th>\n",
       "      <th>Goulash met rijst en broccoli</th>\n",
       "      <th>Jamie Oliver's kip Kiev</th>\n",
       "      <th>Monique van Loons zoete-aardappellatkes met auberginesalade</th>\n",
       "      <th>Rijkgevulde goulashsoep</th>\n",
       "      <th>Romige paddenstoelensoep</th>\n",
       "      <th>Semifreddo met snickers</th>\n",
       "      <th>Simpele kaasfondue</th>\n",
       "      <th>Spi­na­zie-ri­cot­ta­ro­to­lo</th>\n",
       "      <th>Stroganoff-schnitzel met bonensalade</th>\n",
       "      <th>Vegetarische koolraapgoulash met rijst</th>\n",
       "      <th>Wellington van rundergehakt</th>\n",
       "      <th>Zuurkoolschotel met worst en champignons</th>\n",
       "    </tr>\n",
       "  </thead>\n",
       "  <tbody>\n",
       "    <tr>\n",
       "      <th>0</th>\n",
       "      <td>0.0</td>\n",
       "      <td>1.0</td>\n",
       "      <td>0.0</td>\n",
       "      <td>0.0</td>\n",
       "      <td>0.0</td>\n",
       "      <td>0.0</td>\n",
       "      <td>0.0</td>\n",
       "      <td>1.0</td>\n",
       "      <td>0.0</td>\n",
       "      <td>1.0</td>\n",
       "      <td>0.0</td>\n",
       "      <td>1.0</td>\n",
       "      <td>0.0</td>\n",
       "      <td>0.0</td>\n",
       "      <td>0.0</td>\n",
       "      <td>0.0</td>\n",
       "      <td>1.0</td>\n",
       "      <td>1.0</td>\n",
       "      <td>0.0</td>\n",
       "      <td>1.0</td>\n",
       "    </tr>\n",
       "    <tr>\n",
       "      <th>1</th>\n",
       "      <td>0.0</td>\n",
       "      <td>0.0</td>\n",
       "      <td>0.0</td>\n",
       "      <td>0.0</td>\n",
       "      <td>0.0</td>\n",
       "      <td>1.0</td>\n",
       "      <td>1.0</td>\n",
       "      <td>0.0</td>\n",
       "      <td>0.0</td>\n",
       "      <td>0.0</td>\n",
       "      <td>0.0</td>\n",
       "      <td>0.0</td>\n",
       "      <td>1.0</td>\n",
       "      <td>1.0</td>\n",
       "      <td>1.0</td>\n",
       "      <td>1.0</td>\n",
       "      <td>0.0</td>\n",
       "      <td>0.0</td>\n",
       "      <td>1.0</td>\n",
       "      <td>0.0</td>\n",
       "    </tr>\n",
       "    <tr>\n",
       "      <th>2</th>\n",
       "      <td>0.0</td>\n",
       "      <td>1.0</td>\n",
       "      <td>0.0</td>\n",
       "      <td>0.0</td>\n",
       "      <td>0.0</td>\n",
       "      <td>0.0</td>\n",
       "      <td>0.0</td>\n",
       "      <td>1.0</td>\n",
       "      <td>1.0</td>\n",
       "      <td>1.0</td>\n",
       "      <td>0.0</td>\n",
       "      <td>0.0</td>\n",
       "      <td>0.0</td>\n",
       "      <td>0.0</td>\n",
       "      <td>0.0</td>\n",
       "      <td>0.0</td>\n",
       "      <td>1.0</td>\n",
       "      <td>1.0</td>\n",
       "      <td>0.0</td>\n",
       "      <td>1.0</td>\n",
       "    </tr>\n",
       "    <tr>\n",
       "      <th>3</th>\n",
       "      <td>0.0</td>\n",
       "      <td>0.0</td>\n",
       "      <td>0.0</td>\n",
       "      <td>1.0</td>\n",
       "      <td>0.0</td>\n",
       "      <td>1.0</td>\n",
       "      <td>1.0</td>\n",
       "      <td>0.0</td>\n",
       "      <td>0.0</td>\n",
       "      <td>0.0</td>\n",
       "      <td>0.0</td>\n",
       "      <td>0.0</td>\n",
       "      <td>0.0</td>\n",
       "      <td>1.0</td>\n",
       "      <td>1.0</td>\n",
       "      <td>1.0</td>\n",
       "      <td>0.0</td>\n",
       "      <td>0.0</td>\n",
       "      <td>1.0</td>\n",
       "      <td>0.0</td>\n",
       "    </tr>\n",
       "    <tr>\n",
       "      <th>4</th>\n",
       "      <td>0.0</td>\n",
       "      <td>1.0</td>\n",
       "      <td>0.0</td>\n",
       "      <td>0.0</td>\n",
       "      <td>0.0</td>\n",
       "      <td>0.0</td>\n",
       "      <td>0.0</td>\n",
       "      <td>1.0</td>\n",
       "      <td>0.0</td>\n",
       "      <td>1.0</td>\n",
       "      <td>1.0</td>\n",
       "      <td>1.0</td>\n",
       "      <td>0.0</td>\n",
       "      <td>0.0</td>\n",
       "      <td>0.0</td>\n",
       "      <td>0.0</td>\n",
       "      <td>0.0</td>\n",
       "      <td>1.0</td>\n",
       "      <td>0.0</td>\n",
       "      <td>1.0</td>\n",
       "    </tr>\n",
       "  </tbody>\n",
       "</table>\n",
       "</div>"
      ],
      "text/plain": [
       "   Amuse zalm op een vorkje  Babka met chocolade en hazelnoten  \\\n",
       "0                       0.0                                1.0   \n",
       "1                       0.0                                0.0   \n",
       "2                       0.0                                1.0   \n",
       "3                       0.0                                0.0   \n",
       "4                       0.0                                1.0   \n",
       "\n",
       "   Borsjt met dille en sour cream  Chocolade-kardemomcake  \\\n",
       "0                             0.0                     0.0   \n",
       "1                             0.0                     0.0   \n",
       "2                             0.0                     0.0   \n",
       "3                             0.0                     1.0   \n",
       "4                             0.0                     0.0   \n",
       "\n",
       "   Eenvoudige rodekool  Frittata met lentegroenten  \\\n",
       "0                  0.0                         0.0   \n",
       "1                  0.0                         1.0   \n",
       "2                  0.0                         0.0   \n",
       "3                  0.0                         1.0   \n",
       "4                  0.0                         0.0   \n",
       "\n",
       "   Gemengde geroosterde groenten  Goulash met paprikamix  \\\n",
       "0                            0.0                     1.0   \n",
       "1                            1.0                     0.0   \n",
       "2                            0.0                     1.0   \n",
       "3                            1.0                     0.0   \n",
       "4                            0.0                     1.0   \n",
       "\n",
       "   Goulash met rijst en broccoli  Jamie Oliver's kip Kiev  \\\n",
       "0                            0.0                      1.0   \n",
       "1                            0.0                      0.0   \n",
       "2                            1.0                      1.0   \n",
       "3                            0.0                      0.0   \n",
       "4                            0.0                      1.0   \n",
       "\n",
       "   Monique van Loons zoete-aardappellatkes met auberginesalade  \\\n",
       "0                                                0.0             \n",
       "1                                                0.0             \n",
       "2                                                0.0             \n",
       "3                                                0.0             \n",
       "4                                                1.0             \n",
       "\n",
       "   Rijkgevulde goulashsoep  Romige paddenstoelensoep  Semifreddo met snickers  \\\n",
       "0                      1.0                       0.0                      0.0   \n",
       "1                      0.0                       1.0                      1.0   \n",
       "2                      0.0                       0.0                      0.0   \n",
       "3                      0.0                       0.0                      1.0   \n",
       "4                      1.0                       0.0                      0.0   \n",
       "\n",
       "   Simpele kaasfondue  Spi­na­zie-ri­cot­ta­ro­to­lo  \\\n",
       "0                 0.0                            0.0   \n",
       "1                 1.0                            1.0   \n",
       "2                 0.0                            0.0   \n",
       "3                 1.0                            1.0   \n",
       "4                 0.0                            0.0   \n",
       "\n",
       "   Stroganoff-schnitzel met bonensalade  \\\n",
       "0                                   1.0   \n",
       "1                                   0.0   \n",
       "2                                   1.0   \n",
       "3                                   0.0   \n",
       "4                                   0.0   \n",
       "\n",
       "   Vegetarische koolraapgoulash met rijst  Wellington van rundergehakt  \\\n",
       "0                                     1.0                          0.0   \n",
       "1                                     0.0                          1.0   \n",
       "2                                     1.0                          0.0   \n",
       "3                                     0.0                          1.0   \n",
       "4                                     1.0                          0.0   \n",
       "\n",
       "   Zuurkoolschotel met worst en champignons  \n",
       "0                                       1.0  \n",
       "1                                       0.0  \n",
       "2                                       1.0  \n",
       "3                                       0.0  \n",
       "4                                       1.0  "
      ]
     },
     "execution_count": 451,
     "metadata": {},
     "output_type": "execute_result"
    }
   ],
   "source": [
    "df = pd.read_csv('Simulatie jamie_oliver&oost_europees.csv') # Importeren van de gesimuleerde dataset\n",
    "df.head()"
   ]
  },
  {
   "cell_type": "code",
   "execution_count": 535,
   "id": "ceae27a7",
   "metadata": {},
   "outputs": [],
   "source": [
    "X = df.drop('Gemengde geroosterde groenten', axis = 1).values # X zijn de features\n",
    "y = df['Gemengde geroosterde groenten'].values # y is de target variabele"
   ]
  },
  {
   "cell_type": "code",
   "execution_count": 536,
   "id": "6e52f050",
   "metadata": {},
   "outputs": [
    {
     "data": {
      "text/plain": [
       "0.37"
      ]
     },
     "execution_count": 536,
     "metadata": {},
     "output_type": "execute_result"
    }
   ],
   "source": [
    "sum(y)/len(df)"
   ]
  },
  {
   "cell_type": "code",
   "execution_count": 537,
   "id": "41528213",
   "metadata": {},
   "outputs": [],
   "source": [
    "X_train, X_test, y_train, y_test = train_test_split(X, y, test_size = 0.2, random_state=42)\n",
    "# Hier wordt de data gesplit in train en test data. \n",
    "# Ik gebruik een random_state, zodat de RandomForestClassifier en DecisionTreeClassifier met dezelfde data wordt vergeleken. "
   ]
  },
  {
   "cell_type": "markdown",
   "id": "5f03ef39",
   "metadata": {},
   "source": [
    "### RandomForestClassifier"
   ]
  },
  {
   "cell_type": "code",
   "execution_count": 538,
   "id": "fd28d1e5",
   "metadata": {},
   "outputs": [],
   "source": [
    "RFC = RandomForestClassifier() # Hier wordt de RandomForestClassifier aangemaakt"
   ]
  },
  {
   "cell_type": "code",
   "execution_count": 539,
   "id": "9c0edd23",
   "metadata": {},
   "outputs": [],
   "source": [
    "param_grid = {'n_estimators' : [50, 100, 150, 200, 250], \n",
    "              'max_depth'    : [10, 20, 30, 40, 50]} \n",
    "\n",
    "# In het param_grid staan waardes om de hyperparameters mee te tunen."
   ]
  },
  {
   "cell_type": "code",
   "execution_count": 540,
   "id": "32f1fa1c",
   "metadata": {},
   "outputs": [],
   "source": [
    "rf_random = RandomizedSearchCV(estimator = RFC, param_distributions = param_grid, n_iter = 20, cv = 3)\n",
    "# Met de RandomizedSearchCV worden de meest geschikte waardes van het param_grid voor de hyperparameters bepaald."
   ]
  },
  {
   "cell_type": "code",
   "execution_count": 541,
   "id": "1a75dd51",
   "metadata": {},
   "outputs": [
    {
     "data": {
      "text/html": [
       "<style>#sk-container-id-40 {color: black;background-color: white;}#sk-container-id-40 pre{padding: 0;}#sk-container-id-40 div.sk-toggleable {background-color: white;}#sk-container-id-40 label.sk-toggleable__label {cursor: pointer;display: block;width: 100%;margin-bottom: 0;padding: 0.3em;box-sizing: border-box;text-align: center;}#sk-container-id-40 label.sk-toggleable__label-arrow:before {content: \"▸\";float: left;margin-right: 0.25em;color: #696969;}#sk-container-id-40 label.sk-toggleable__label-arrow:hover:before {color: black;}#sk-container-id-40 div.sk-estimator:hover label.sk-toggleable__label-arrow:before {color: black;}#sk-container-id-40 div.sk-toggleable__content {max-height: 0;max-width: 0;overflow: hidden;text-align: left;background-color: #f0f8ff;}#sk-container-id-40 div.sk-toggleable__content pre {margin: 0.2em;color: black;border-radius: 0.25em;background-color: #f0f8ff;}#sk-container-id-40 input.sk-toggleable__control:checked~div.sk-toggleable__content {max-height: 200px;max-width: 100%;overflow: auto;}#sk-container-id-40 input.sk-toggleable__control:checked~label.sk-toggleable__label-arrow:before {content: \"▾\";}#sk-container-id-40 div.sk-estimator input.sk-toggleable__control:checked~label.sk-toggleable__label {background-color: #d4ebff;}#sk-container-id-40 div.sk-label input.sk-toggleable__control:checked~label.sk-toggleable__label {background-color: #d4ebff;}#sk-container-id-40 input.sk-hidden--visually {border: 0;clip: rect(1px 1px 1px 1px);clip: rect(1px, 1px, 1px, 1px);height: 1px;margin: -1px;overflow: hidden;padding: 0;position: absolute;width: 1px;}#sk-container-id-40 div.sk-estimator {font-family: monospace;background-color: #f0f8ff;border: 1px dotted black;border-radius: 0.25em;box-sizing: border-box;margin-bottom: 0.5em;}#sk-container-id-40 div.sk-estimator:hover {background-color: #d4ebff;}#sk-container-id-40 div.sk-parallel-item::after {content: \"\";width: 100%;border-bottom: 1px solid gray;flex-grow: 1;}#sk-container-id-40 div.sk-label:hover label.sk-toggleable__label {background-color: #d4ebff;}#sk-container-id-40 div.sk-serial::before {content: \"\";position: absolute;border-left: 1px solid gray;box-sizing: border-box;top: 0;bottom: 0;left: 50%;z-index: 0;}#sk-container-id-40 div.sk-serial {display: flex;flex-direction: column;align-items: center;background-color: white;padding-right: 0.2em;padding-left: 0.2em;position: relative;}#sk-container-id-40 div.sk-item {position: relative;z-index: 1;}#sk-container-id-40 div.sk-parallel {display: flex;align-items: stretch;justify-content: center;background-color: white;position: relative;}#sk-container-id-40 div.sk-item::before, #sk-container-id-40 div.sk-parallel-item::before {content: \"\";position: absolute;border-left: 1px solid gray;box-sizing: border-box;top: 0;bottom: 0;left: 50%;z-index: -1;}#sk-container-id-40 div.sk-parallel-item {display: flex;flex-direction: column;z-index: 1;position: relative;background-color: white;}#sk-container-id-40 div.sk-parallel-item:first-child::after {align-self: flex-end;width: 50%;}#sk-container-id-40 div.sk-parallel-item:last-child::after {align-self: flex-start;width: 50%;}#sk-container-id-40 div.sk-parallel-item:only-child::after {width: 0;}#sk-container-id-40 div.sk-dashed-wrapped {border: 1px dashed gray;margin: 0 0.4em 0.5em 0.4em;box-sizing: border-box;padding-bottom: 0.4em;background-color: white;}#sk-container-id-40 div.sk-label label {font-family: monospace;font-weight: bold;display: inline-block;line-height: 1.2em;}#sk-container-id-40 div.sk-label-container {text-align: center;}#sk-container-id-40 div.sk-container {/* jupyter's `normalize.less` sets `[hidden] { display: none; }` but bootstrap.min.css set `[hidden] { display: none !important; }` so we also need the `!important` here to be able to override the default hidden behavior on the sphinx rendered scikit-learn.org. See: https://github.com/scikit-learn/scikit-learn/issues/21755 */display: inline-block !important;position: relative;}#sk-container-id-40 div.sk-text-repr-fallback {display: none;}</style><div id=\"sk-container-id-40\" class=\"sk-top-container\"><div class=\"sk-text-repr-fallback\"><pre>RandomizedSearchCV(cv=3, estimator=RandomForestClassifier(), n_iter=20,\n",
       "                   param_distributions={&#x27;max_depth&#x27;: [10, 20, 30, 40, 50],\n",
       "                                        &#x27;n_estimators&#x27;: [50, 100, 150, 200,\n",
       "                                                         250]})</pre><b>In a Jupyter environment, please rerun this cell to show the HTML representation or trust the notebook. <br />On GitHub, the HTML representation is unable to render, please try loading this page with nbviewer.org.</b></div><div class=\"sk-container\" hidden><div class=\"sk-item sk-dashed-wrapped\"><div class=\"sk-label-container\"><div class=\"sk-label sk-toggleable\"><input class=\"sk-toggleable__control sk-hidden--visually\" id=\"sk-estimator-id-78\" type=\"checkbox\" ><label for=\"sk-estimator-id-78\" class=\"sk-toggleable__label sk-toggleable__label-arrow\">RandomizedSearchCV</label><div class=\"sk-toggleable__content\"><pre>RandomizedSearchCV(cv=3, estimator=RandomForestClassifier(), n_iter=20,\n",
       "                   param_distributions={&#x27;max_depth&#x27;: [10, 20, 30, 40, 50],\n",
       "                                        &#x27;n_estimators&#x27;: [50, 100, 150, 200,\n",
       "                                                         250]})</pre></div></div></div><div class=\"sk-parallel\"><div class=\"sk-parallel-item\"><div class=\"sk-item\"><div class=\"sk-label-container\"><div class=\"sk-label sk-toggleable\"><input class=\"sk-toggleable__control sk-hidden--visually\" id=\"sk-estimator-id-79\" type=\"checkbox\" ><label for=\"sk-estimator-id-79\" class=\"sk-toggleable__label sk-toggleable__label-arrow\">estimator: RandomForestClassifier</label><div class=\"sk-toggleable__content\"><pre>RandomForestClassifier()</pre></div></div></div><div class=\"sk-serial\"><div class=\"sk-item\"><div class=\"sk-estimator sk-toggleable\"><input class=\"sk-toggleable__control sk-hidden--visually\" id=\"sk-estimator-id-80\" type=\"checkbox\" ><label for=\"sk-estimator-id-80\" class=\"sk-toggleable__label sk-toggleable__label-arrow\">RandomForestClassifier</label><div class=\"sk-toggleable__content\"><pre>RandomForestClassifier()</pre></div></div></div></div></div></div></div></div></div></div>"
      ],
      "text/plain": [
       "RandomizedSearchCV(cv=3, estimator=RandomForestClassifier(), n_iter=20,\n",
       "                   param_distributions={'max_depth': [10, 20, 30, 40, 50],\n",
       "                                        'n_estimators': [50, 100, 150, 200,\n",
       "                                                         250]})"
      ]
     },
     "execution_count": 541,
     "metadata": {},
     "output_type": "execute_result"
    }
   ],
   "source": [
    "rf_random.fit(X_train , y_train) # Het model wordt gefit op de train data"
   ]
  },
  {
   "cell_type": "code",
   "execution_count": 542,
   "id": "3cdc8832",
   "metadata": {},
   "outputs": [
    {
     "data": {
      "text/plain": [
       "{'n_estimators': 200, 'max_depth': 30}"
      ]
     },
     "execution_count": 542,
     "metadata": {},
     "output_type": "execute_result"
    }
   ],
   "source": [
    "rf_random.best_params_ # Dit zijn de beste waardes die zijn gekozen voor de hyperparameters"
   ]
  },
  {
   "cell_type": "code",
   "execution_count": 543,
   "id": "093f2d01",
   "metadata": {
    "scrolled": true
   },
   "outputs": [],
   "source": [
    "y_pred = rf_random.predict(X_test)# Met de features wordt voorspelt of iemand gemengde geroosterde groenten wel/niet lekker vindt"
   ]
  },
  {
   "cell_type": "code",
   "execution_count": 544,
   "id": "16ea2dae",
   "metadata": {},
   "outputs": [
    {
     "data": {
      "text/plain": [
       "array([[13,  1],\n",
       "       [ 1,  5]])"
      ]
     },
     "execution_count": 544,
     "metadata": {},
     "output_type": "execute_result"
    }
   ],
   "source": [
    "confusion_matrix(y_test, y_pred) # Dit is de confusion matrix voor de RFC: [[TN, FP]\n",
    "#                                                                           [FN, TP]]"
   ]
  },
  {
   "cell_type": "code",
   "execution_count": 545,
   "id": "64aa0e33",
   "metadata": {},
   "outputs": [
    {
     "data": {
      "text/plain": [
       "(0.07142857142857142, 0.8333333333333334)"
      ]
     },
     "execution_count": 545,
     "metadata": {},
     "output_type": "execute_result"
    }
   ],
   "source": [
    "x_rfr = confusion_matrix(y_test, y_pred)[0][1]/ sum(confusion_matrix(y_test, y_pred)[0]) # False positive rate bij de confusion matrix\n",
    "y_rfr = confusion_matrix(y_test, y_pred)[1][1]/ sum(confusion_matrix(y_test, y_pred)[1]) # True positive rate bij de confusion matrix\n",
    "x_rfr, y_rfr"
   ]
  },
  {
   "cell_type": "code",
   "execution_count": 546,
   "id": "0fc3e498",
   "metadata": {},
   "outputs": [
    {
     "data": {
      "text/plain": [
       "0.9"
      ]
     },
     "execution_count": 546,
     "metadata": {},
     "output_type": "execute_result"
    }
   ],
   "source": [
    "accuracy_score(y_test, y_pred) # Berekenen van de accuracy"
   ]
  },
  {
   "cell_type": "code",
   "execution_count": 547,
   "id": "f06dce95",
   "metadata": {},
   "outputs": [],
   "source": [
    "y_test_score = rf_random.predict_proba(X_test)[:,1]\n",
    "fpr, tpr, _ = roc_curve(y_test, y_test_score) # Hier worden de FPR en TPR berekend om de roc curve te maken\n",
    "auc_test = roc_auc_score(y_test, y_test_score) # Dit is de auc (area under curve)"
   ]
  },
  {
   "cell_type": "markdown",
   "id": "4018e48a",
   "metadata": {},
   "source": [
    "### DecisionTreeClassifier"
   ]
  },
  {
   "cell_type": "code",
   "execution_count": 548,
   "id": "952efb75",
   "metadata": {},
   "outputs": [],
   "source": [
    "from sklearn.tree import DecisionTreeClassifier"
   ]
  },
  {
   "cell_type": "code",
   "execution_count": 549,
   "id": "9dbcc328",
   "metadata": {},
   "outputs": [],
   "source": [
    "DTC = DecisionTreeClassifier() # Hier wordt de DecisionTreeClassifier aangemaakt"
   ]
  },
  {
   "cell_type": "code",
   "execution_count": 550,
   "id": "6a05abc9",
   "metadata": {},
   "outputs": [
    {
     "data": {
      "text/html": [
       "<style>#sk-container-id-41 {color: black;background-color: white;}#sk-container-id-41 pre{padding: 0;}#sk-container-id-41 div.sk-toggleable {background-color: white;}#sk-container-id-41 label.sk-toggleable__label {cursor: pointer;display: block;width: 100%;margin-bottom: 0;padding: 0.3em;box-sizing: border-box;text-align: center;}#sk-container-id-41 label.sk-toggleable__label-arrow:before {content: \"▸\";float: left;margin-right: 0.25em;color: #696969;}#sk-container-id-41 label.sk-toggleable__label-arrow:hover:before {color: black;}#sk-container-id-41 div.sk-estimator:hover label.sk-toggleable__label-arrow:before {color: black;}#sk-container-id-41 div.sk-toggleable__content {max-height: 0;max-width: 0;overflow: hidden;text-align: left;background-color: #f0f8ff;}#sk-container-id-41 div.sk-toggleable__content pre {margin: 0.2em;color: black;border-radius: 0.25em;background-color: #f0f8ff;}#sk-container-id-41 input.sk-toggleable__control:checked~div.sk-toggleable__content {max-height: 200px;max-width: 100%;overflow: auto;}#sk-container-id-41 input.sk-toggleable__control:checked~label.sk-toggleable__label-arrow:before {content: \"▾\";}#sk-container-id-41 div.sk-estimator input.sk-toggleable__control:checked~label.sk-toggleable__label {background-color: #d4ebff;}#sk-container-id-41 div.sk-label input.sk-toggleable__control:checked~label.sk-toggleable__label {background-color: #d4ebff;}#sk-container-id-41 input.sk-hidden--visually {border: 0;clip: rect(1px 1px 1px 1px);clip: rect(1px, 1px, 1px, 1px);height: 1px;margin: -1px;overflow: hidden;padding: 0;position: absolute;width: 1px;}#sk-container-id-41 div.sk-estimator {font-family: monospace;background-color: #f0f8ff;border: 1px dotted black;border-radius: 0.25em;box-sizing: border-box;margin-bottom: 0.5em;}#sk-container-id-41 div.sk-estimator:hover {background-color: #d4ebff;}#sk-container-id-41 div.sk-parallel-item::after {content: \"\";width: 100%;border-bottom: 1px solid gray;flex-grow: 1;}#sk-container-id-41 div.sk-label:hover label.sk-toggleable__label {background-color: #d4ebff;}#sk-container-id-41 div.sk-serial::before {content: \"\";position: absolute;border-left: 1px solid gray;box-sizing: border-box;top: 0;bottom: 0;left: 50%;z-index: 0;}#sk-container-id-41 div.sk-serial {display: flex;flex-direction: column;align-items: center;background-color: white;padding-right: 0.2em;padding-left: 0.2em;position: relative;}#sk-container-id-41 div.sk-item {position: relative;z-index: 1;}#sk-container-id-41 div.sk-parallel {display: flex;align-items: stretch;justify-content: center;background-color: white;position: relative;}#sk-container-id-41 div.sk-item::before, #sk-container-id-41 div.sk-parallel-item::before {content: \"\";position: absolute;border-left: 1px solid gray;box-sizing: border-box;top: 0;bottom: 0;left: 50%;z-index: -1;}#sk-container-id-41 div.sk-parallel-item {display: flex;flex-direction: column;z-index: 1;position: relative;background-color: white;}#sk-container-id-41 div.sk-parallel-item:first-child::after {align-self: flex-end;width: 50%;}#sk-container-id-41 div.sk-parallel-item:last-child::after {align-self: flex-start;width: 50%;}#sk-container-id-41 div.sk-parallel-item:only-child::after {width: 0;}#sk-container-id-41 div.sk-dashed-wrapped {border: 1px dashed gray;margin: 0 0.4em 0.5em 0.4em;box-sizing: border-box;padding-bottom: 0.4em;background-color: white;}#sk-container-id-41 div.sk-label label {font-family: monospace;font-weight: bold;display: inline-block;line-height: 1.2em;}#sk-container-id-41 div.sk-label-container {text-align: center;}#sk-container-id-41 div.sk-container {/* jupyter's `normalize.less` sets `[hidden] { display: none; }` but bootstrap.min.css set `[hidden] { display: none !important; }` so we also need the `!important` here to be able to override the default hidden behavior on the sphinx rendered scikit-learn.org. See: https://github.com/scikit-learn/scikit-learn/issues/21755 */display: inline-block !important;position: relative;}#sk-container-id-41 div.sk-text-repr-fallback {display: none;}</style><div id=\"sk-container-id-41\" class=\"sk-top-container\"><div class=\"sk-text-repr-fallback\"><pre>DecisionTreeClassifier()</pre><b>In a Jupyter environment, please rerun this cell to show the HTML representation or trust the notebook. <br />On GitHub, the HTML representation is unable to render, please try loading this page with nbviewer.org.</b></div><div class=\"sk-container\" hidden><div class=\"sk-item\"><div class=\"sk-estimator sk-toggleable\"><input class=\"sk-toggleable__control sk-hidden--visually\" id=\"sk-estimator-id-81\" type=\"checkbox\" checked><label for=\"sk-estimator-id-81\" class=\"sk-toggleable__label sk-toggleable__label-arrow\">DecisionTreeClassifier</label><div class=\"sk-toggleable__content\"><pre>DecisionTreeClassifier()</pre></div></div></div></div></div>"
      ],
      "text/plain": [
       "DecisionTreeClassifier()"
      ]
     },
     "execution_count": 550,
     "metadata": {},
     "output_type": "execute_result"
    }
   ],
   "source": [
    "DTC.fit(X_train, y_train) # Het model wordt gefit op de training data "
   ]
  },
  {
   "cell_type": "code",
   "execution_count": 551,
   "id": "7e668e00",
   "metadata": {},
   "outputs": [],
   "source": [
    "y_dtc_pred = DTC.predict(X_test)# Met de features wordt voorspelt of iemand gemengde geroosterde groenten wel/niet lekker vindt"
   ]
  },
  {
   "cell_type": "code",
   "execution_count": 552,
   "id": "52014e96",
   "metadata": {},
   "outputs": [
    {
     "data": {
      "text/plain": [
       "0.85"
      ]
     },
     "execution_count": 552,
     "metadata": {},
     "output_type": "execute_result"
    }
   ],
   "source": [
    "accuracy_score(y_test, y_dtc_pred) # Berekenen van de accuracy"
   ]
  },
  {
   "cell_type": "code",
   "execution_count": 553,
   "id": "38c3028a",
   "metadata": {
    "scrolled": false
   },
   "outputs": [
    {
     "data": {
      "text/plain": [
       "array([[11,  3],\n",
       "       [ 0,  6]])"
      ]
     },
     "execution_count": 553,
     "metadata": {},
     "output_type": "execute_result"
    }
   ],
   "source": [
    "confusion_matrix(y_test, y_dtc_pred) # Dit is de confusion matrix voor de DTC: [[TN, FP]\n",
    "#                                                                               [FN, TP]]"
   ]
  },
  {
   "cell_type": "code",
   "execution_count": 554,
   "id": "d4725e3b",
   "metadata": {},
   "outputs": [
    {
     "data": {
      "text/plain": [
       "(0.21428571428571427, 1.0)"
      ]
     },
     "execution_count": 554,
     "metadata": {},
     "output_type": "execute_result"
    }
   ],
   "source": [
    "x_dtc = confusion_matrix(y_test, y_dtc_pred)[0][1]/ sum(confusion_matrix(y_test, y_dtc_pred)[0]) # False positive rate bij de confusion matrix\n",
    "y_dtc = confusion_matrix(y_test, y_dtc_pred)[1][1]/ sum(confusion_matrix(y_test, y_dtc_pred)[1]) # True positive rate bij de confusion matrix\n",
    "x_dtc, y_dtc"
   ]
  },
  {
   "cell_type": "code",
   "execution_count": 555,
   "id": "eed634cf",
   "metadata": {},
   "outputs": [],
   "source": [
    "y_test_score_dtc = DTC.predict_proba(X_test)[:,1]\n",
    "fpr_dtc, tpr_dtc, _ = roc_curve(y_test, y_test_score_dtc) # Hier worden de FPR en TPR berekend om de roc curve te maken\n",
    "auc_test_dtc = roc_auc_score(y_test, y_test_score_dtc) # Dit is de auc (area under curve)"
   ]
  },
  {
   "cell_type": "code",
   "execution_count": 556,
   "id": "b7b71492",
   "metadata": {},
   "outputs": [
    {
     "data": {
      "text/plain": [
       "0.8333333333333334"
      ]
     },
     "execution_count": 556,
     "metadata": {},
     "output_type": "execute_result"
    }
   ],
   "source": [
    "precision_score(y_test, y_pred) # Precision bij de RFC"
   ]
  },
  {
   "cell_type": "code",
   "execution_count": 557,
   "id": "18b05495",
   "metadata": {},
   "outputs": [
    {
     "data": {
      "text/plain": [
       "0.6666666666666666"
      ]
     },
     "execution_count": 557,
     "metadata": {},
     "output_type": "execute_result"
    }
   ],
   "source": [
    "precision_score(y_test, y_dtc_pred) # Precision bij de DTC"
   ]
  },
  {
   "cell_type": "code",
   "execution_count": 558,
   "id": "eb6911d7",
   "metadata": {},
   "outputs": [
    {
     "data": {
      "text/plain": [
       "0.8333333333333334"
      ]
     },
     "execution_count": 558,
     "metadata": {},
     "output_type": "execute_result"
    }
   ],
   "source": [
    "recall_score(y_test, y_pred) # Recall bij de RFC"
   ]
  },
  {
   "cell_type": "code",
   "execution_count": 559,
   "id": "46412275",
   "metadata": {},
   "outputs": [
    {
     "data": {
      "text/plain": [
       "1.0"
      ]
     },
     "execution_count": 559,
     "metadata": {},
     "output_type": "execute_result"
    }
   ],
   "source": [
    "recall_score(y_test, y_dtc_pred) # Recall bij de DTC"
   ]
  },
  {
   "cell_type": "code",
   "execution_count": 561,
   "id": "f9c7edda",
   "metadata": {
    "scrolled": false
   },
   "outputs": [
    {
     "data": {
      "image/png": "[encoded data removed]",
      "text/plain": [
       "<Figure size 640x480 with 1 Axes>"
      ]
     },
     "metadata": {},
     "output_type": "display_data"
    }
   ],
   "source": [
    "plt.plot(fpr, tpr, color = 'darkblue')\n",
    "plt.plot(fpr_dtc, tpr_dtc, color = 'darkgreen')\n",
    "plt.plot([0,1], [0,1], color = 'black', linestyle = 'dashed')\n",
    "plt.xlabel('FPR')\n",
    "plt.ylabel('TPR')\n",
    "plt.xlim([0,1])\n",
    "plt.ylim([0, 1.1])\n",
    "plt.title('AUC & ROC curve')\n",
    "plt.text(0.90, 0.05, 'AUC_RFR = %0.4f' % auc_test, ha='right', fontsize=12, weight='bold', color='darkblue')\n",
    "plt.text(0.90, 0.15, 'AUC_DTC = %0.4f' % auc_test_dtc, ha='right', fontsize=12, weight='bold', color='darkgreen')\n",
    "plt.fill_between(fpr, tpr, facecolor='lightblue', alpha=0.5)\n",
    "plt.fill_between(fpr_dtc, tpr_dtc, facecolor='lightgreen', alpha=0.5)\n",
    "plt.plot(x_dtc, y_dtc,  '.', color = 'green')\n",
    "plt.plot(x_rfr, y_rfr, '.', color = 'blue')\n",
    "plt.show()"
   ]
  },
  {
   "cell_type": "code",
   "execution_count": 478,
   "id": "a87ef81e",
   "metadata": {},
   "outputs": [],
   "source": [
    "# Hierboven is de AUC & ROC curve te zien om beide classifiers met elkaar te vergelijken.\n",
    "# Hoe groter de AUC score, des te beter het model is. In dit geval is het de RandomForestClassifier."
   ]
  }
 ],
 "metadata": {
  "kernelspec": {
   "display_name": "Python 3 (ipykernel)",
   "language": "python",
   "name": "python3"
  },
  "language_info": {
   "codemirror_mode": {
    "name": "ipython",
    "version": 3
   },
   "file_extension": ".py",
   "mimetype": "text/x-python",
   "name": "python",
   "nbconvert_exporter": "python",
   "pygments_lexer": "ipython3",
   "version": "3.9.15"
  }
 },
 "nbformat": 4,
 "nbformat_minor": 5
}
